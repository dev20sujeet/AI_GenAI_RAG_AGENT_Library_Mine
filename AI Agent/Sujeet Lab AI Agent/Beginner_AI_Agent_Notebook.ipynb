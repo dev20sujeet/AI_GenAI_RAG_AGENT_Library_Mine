{
 "cells": [
  {
   "cell_type": "markdown",
   "id": "3b202ef0",
   "metadata": {},
   "source": [
    "# 🤖 Build Your First AI Agent from Scratch (Beginner Friendly)\n",
    "Welcome! This notebook helps you understand and build an AI Agent from the ground up.\n",
    "We'll walk through each concept step-by-step, with **detailed comments** and explanations for beginners."
   ]
  },
  {
   "cell_type": "markdown",
   "id": "f70711e0",
   "metadata": {},
   "source": [
    "## 🛠️ Step 1: Define a Tool (Function)\n",
    "A **Tool** is just a Python function the Agent can use to do something real — like fetching weather info."
   ]
  },
  {
   "cell_type": "code",
   "execution_count": null,
   "id": "b7335863",
   "metadata": {},
   "outputs": [],
   "source": [
    "# Define a simple Python function called 'get_weather'.\n",
    "# This function accepts a 'location' and returns a simulated weather report.\n",
    "def get_weather(location: str) -> str:\n",
    "    \"\"\"Fetches the weather for a given location.\"\"\"\n",
    "    \n",
    "    # This is a fake weather dictionary used instead of a real API\n",
    "    simulated_weather = {\n",
    "        \"New York\": \"Partly cloudy, 15°C, 60% humidity\",\n",
    "        \"Tokyo\": \"Sunny, 28°C, 40% humidity\",\n",
    "        \"Berlin\": \"Rainy, 12°C, 85% humidity\"\n",
    "    }\n",
    "\n",
    "    # Return the weather info for the given location\n",
    "    return simulated_weather.get(location, \"Weather data not available.\")\n"
   ]
  },
  {
   "cell_type": "markdown",
   "id": "e693cb84",
   "metadata": {},
   "source": [
    "## 🔧 Step 2: Create a Tool Wrapper Class\n",
    "This class stores the tool's name, description, and the function itself.\n",
    "It lets us treat each tool like a reusable object."
   ]
  },
  {
   "cell_type": "code",
   "execution_count": null,
   "id": "8aa65c85",
   "metadata": {},
   "outputs": [],
   "source": [
    "from typing import Callable, Any\n",
    "\n",
    "# The Tool class wraps around a function (method) and stores helpful info about it.\n",
    "class Tool:\n",
    "    def __init__(self, name: str, description: str, func: Callable[[Any], Any]):\n",
    "        # name = the function's name (like 'get_weather')\n",
    "        self.name = name\n",
    "        # description = text that explains what the tool does\n",
    "        self.description = description\n",
    "        # func = the actual function we want to run\n",
    "        self.func = func\n",
    "\n",
    "    def run(self, **kwargs) -> Any:\n",
    "        # When we want to run this tool, we call the original function with arguments\n",
    "        return self.func(**kwargs)\n"
   ]
  },
  {
   "cell_type": "markdown",
   "id": "ddd72bed",
   "metadata": {},
   "source": [
    "## 🤖 Step 3: Create the Agent Class\n",
    "The Agent class manages available tools and simulates the **ReAct cycle**:\n",
    "- Thought → Action → Observation → Updated Thought"
   ]
  },
  {
   "cell_type": "code",
   "execution_count": null,
   "id": "9c61c25f",
   "metadata": {},
   "outputs": [],
   "source": [
    "from typing import Dict\n",
    "\n",
    "# Agent class handles reasoning, executing tools, and displaying observations\n",
    "class Agent:\n",
    "    def __init__(self):\n",
    "        # A dictionary to store all tools by name\n",
    "        self.tools: Dict[str, Tool] = {}\n",
    "\n",
    "    def register_tool(self, func: Callable[[Any], Any]):\n",
    "        \"\"\"This method registers a new tool using the function.\"\"\"\n",
    "        tool = Tool(\n",
    "            name=func.__name__,          # Tool name comes from function name\n",
    "            description=func.__doc__ or \"\",  # Tool description from function docstring\n",
    "            func=func                    # The actual function\n",
    "        )\n",
    "        self.tools[tool.name] = tool     # Store it in the tools dictionary\n",
    "\n",
    "    def run(self, user_input: str):\n",
    "        # === THOUGHT ===\n",
    "        print(\"🧠 Thought: Determine which tool to use based on user input.\")\n",
    "        \n",
    "        # Simulate parsing the location from input text\n",
    "        location = user_input.strip().split(\" in \")[-1].strip(\" ?.\")\n",
    "\n",
    "        # Simulate LLM generating an action plan (in JSON-like format)\n",
    "        action = {\n",
    "            \"action\": \"get_weather\",\n",
    "            \"action_input\": {\"location\": location}\n",
    "        }\n",
    "\n",
    "        # === ACTION ===\n",
    "        print(f\"\\n⚙️ Action: Executing tool '{action['action']}' with input: {action['action_input']}\")\n",
    "        \n",
    "        # Get the tool based on its name and run it\n",
    "        tool = self.tools.get(action[\"action\"])\n",
    "        if not tool:\n",
    "            print(\"❌ Tool not found.\")\n",
    "            return\n",
    "\n",
    "        # Run the tool function with the location as argument\n",
    "        result = tool.run(**action[\"action_input\"])\n",
    "\n",
    "        # === OBSERVATION ===\n",
    "        print(f\"\\n👀 Observation: Tool returned -> '{result}'\")\n",
    "\n",
    "        # === UPDATED THOUGHT ===\n",
    "        print(\"\\n🔄 Updated Thought: I now have the data needed for the user.\")\n",
    "\n",
    "        # === FINAL RESPONSE ===\n",
    "        print(f\"\\n💬 Final Response: The current weather in {location} is: {result}\")\n"
   ]
  },
  {
   "cell_type": "markdown",
   "id": "9c7dabd7",
   "metadata": {},
   "source": [
    "## 🚀 Step 4: Register the Tool and Run the Agent\n",
    "Now we create an agent, register our tool, and simulate a full run!"
   ]
  },
  {
   "cell_type": "code",
   "execution_count": null,
   "id": "47641417",
   "metadata": {},
   "outputs": [],
   "source": [
    "# Create a new agent\n",
    "agent = Agent()\n",
    "\n",
    "# Register the get_weather tool\n",
    "agent.register_tool(get_weather)\n",
    "\n",
    "# Simulate a user asking about the weather\n",
    "agent.run(\"What’s the weather in New York?\")\n"
   ]
  }
 ],
 "metadata": {},
 "nbformat": 4,
 "nbformat_minor": 5
}
